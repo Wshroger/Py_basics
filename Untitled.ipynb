{
 "cells": [
  {
   "cell_type": "code",
   "execution_count": 4,
   "metadata": {},
   "outputs": [
    {
     "name": "stdout",
     "output_type": "stream",
     "text": [
      "your name is : Wei Yutong and your age is 14\n"
     ]
    }
   ],
   "source": [
    "name = 'Wei Yutong'\n",
    "age = 14\n",
    "\n",
    "print(f'your name is : {name} and your age is {age}')"
   ]
  },
  {
   "cell_type": "code",
   "execution_count": 5,
   "metadata": {},
   "outputs": [
    {
     "name": "stdout",
     "output_type": "stream",
     "text": [
      "your name is wei yutong and your age is 14\n"
     ]
    }
   ],
   "source": [
    "print('your name is {} and your age is {}'.format('wei yutong', '14'))"
   ]
  },
  {
   "cell_type": "code",
   "execution_count": 11,
   "metadata": {},
   "outputs": [
    {
     "data": {
      "text/plain": [
       "\"\\\\n\\\\n''' you are right\""
      ]
     },
     "execution_count": 11,
     "metadata": {},
     "output_type": "execute_result"
    }
   ],
   "source": [
    "s = r\"\\n\\n''' you are right\"\n",
    "s"
   ]
  },
  {
   "cell_type": "code",
   "execution_count": 12,
   "metadata": {},
   "outputs": [],
   "source": [
    "from sklearn.svm import SVC\n",
    "from sklearn.neighbors import KNeighborsClassifier\n",
    "from sklearn.linear_model import LogisticRegression\n",
    "from sklearn.model_selection import train_test_split\n",
    "\n",
    "from sklearn.datasets import load_iris\n",
    "from sklearn.datasets import load_breast_cancer\n",
    "\n"
   ]
  },
  {
   "cell_type": "code",
   "execution_count": 39,
   "metadata": {},
   "outputs": [],
   "source": [
    "cancer = load_breast_cancer()\n",
    "iris = load_iris(return_X_y=True)"
   ]
  },
  {
   "cell_type": "code",
   "execution_count": 47,
   "metadata": {},
   "outputs": [
    {
     "name": "stdout",
     "output_type": "stream",
     "text": [
      "cancer data shape: \n",
      " (569, 30) \n",
      "\n"
     ]
    }
   ],
   "source": [
    "print('cancer data shape: \\n', cancer.data.shape, '\\n')"
   ]
  },
  {
   "cell_type": "code",
   "execution_count": 53,
   "metadata": {},
   "outputs": [],
   "source": [
    "X_train, X_test, y_train, y_test = train_test_split(cancer.data, cancer.target, random_state=42, test_size=.3)"
   ]
  },
  {
   "cell_type": "code",
   "execution_count": 54,
   "metadata": {},
   "outputs": [
    {
     "data": {
      "text/plain": [
       "(398, 30)"
      ]
     },
     "execution_count": 54,
     "metadata": {},
     "output_type": "execute_result"
    }
   ],
   "source": [
    "X_train.shape"
   ]
  },
  {
   "cell_type": "code",
   "execution_count": 65,
   "metadata": {},
   "outputs": [
    {
     "name": "stdout",
     "output_type": "stream",
     "text": [
      "0.9221105527638191\n",
      "0.9522613065326633\n",
      "0.9522613065326633\n",
      "\n",
      "\n",
      "\n",
      "0.9590643274853801\n",
      "0.9649122807017544\n",
      "0.9707602339181286\n"
     ]
    },
    {
     "name": "stderr",
     "output_type": "stream",
     "text": [
      "C:\\Users\\k738904\\AppData\\Local\\Continuum\\anaconda3\\lib\\site-packages\\sklearn\\linear_model\\logistic.py:433: FutureWarning: Default solver will be changed to 'lbfgs' in 0.22. Specify a solver to silence this warning.\n",
      "  FutureWarning)\n"
     ]
    }
   ],
   "source": [
    "knn = KNeighborsClassifier( n_neighbors=5)\n",
    "logreg = LogisticRegression()\n",
    "svm = SVC(C=1000, gamma = 'scale')\n",
    "\n",
    "knn.fit(X_train, y_train)\n",
    "logreg.fit(X_train, y_train)\n",
    "svm.fit(X_train, y_train)\n",
    "\n",
    "\n",
    "#scores from training sets\n",
    "print(knn.score(X_train, y_train))\n",
    "print(logreg.score(X_train, y_train))\n",
    "print(svm.score(X_train, y_train))\n",
    "\n",
    "#scores from test sets\n",
    "print('\\n\\n')\n",
    "print(knn.score(X_test, y_test))\n",
    "print(logreg.score(X_test, y_test))\n",
    "print(svm.score(X_test, y_test))"
   ]
  },
  {
   "cell_type": "code",
   "execution_count": 77,
   "metadata": {},
   "outputs": [],
   "source": [
    "import matplotlib.pyplot as plt\n",
    "import seaborn as sns\n",
    "import numpy as np\n",
    "\n",
    "%matplotlib inline"
   ]
  },
  {
   "cell_type": "code",
   "execution_count": 89,
   "metadata": {},
   "outputs": [],
   "source": [
    "#y = np.array([1,2,3])\n",
    "#sns.barplot(y=1, x=knn.score(X_train, y_train),label = 'knn training')\n",
    "#sns.barplot(y=2, x=logreg.score(X_train, y_train),label = 'knn training')\n",
    "#sns.barplot(y=3, x=svm.score(X_train, y_train),label = 'knn training')"
   ]
  },
  {
   "cell_type": "code",
   "execution_count": null,
   "metadata": {},
   "outputs": [],
   "source": []
  },
  {
   "cell_type": "code",
   "execution_count": 22,
   "metadata": {},
   "outputs": [
    {
     "name": "stdout",
     "output_type": "stream",
     "text": [
      "静夜思\n",
      "李白\n",
      "床前明月光,\n",
      "疑是地上霜.\n",
      "举头望明月,\n",
      "低头思故乡\n"
     ]
    }
   ],
   "source": [
    "s = \"\"\"静夜思\n",
    "李白\n",
    "床前明月光,\n",
    "疑是地上霜.\n",
    "举头望明月,\n",
    "低头思故乡\"\"\"\n",
    "\n",
    "print(s)"
   ]
  },
  {
   "cell_type": "code",
   "execution_count": 23,
   "metadata": {},
   "outputs": [
    {
     "name": "stdout",
     "output_type": "stream",
     "text": [
      "静夜思\n",
      "李白\n",
      "床前明月光,\n",
      "疑是地上霜.\n",
      "举头望明月,\n",
      "低头思故乡\n"
     ]
    }
   ],
   "source": [
    "print('静夜思\\n李白\\n床前明月光,\\n疑是地上霜.\\n举头望明月,\\n低头思故乡.')"
   ]
  },
  {
   "cell_type": "code",
   "execution_count": null,
   "metadata": {},
   "outputs": [],
   "source": []
  }
 ],
 "metadata": {
  "kernelspec": {
   "display_name": "Python 3",
   "language": "python",
   "name": "python3"
  },
  "language_info": {
   "codemirror_mode": {
    "name": "ipython",
    "version": 3
   },
   "file_extension": ".py",
   "mimetype": "text/x-python",
   "name": "python",
   "nbconvert_exporter": "python",
   "pygments_lexer": "ipython3",
   "version": "3.7.3"
  }
 },
 "nbformat": 4,
 "nbformat_minor": 2
}
