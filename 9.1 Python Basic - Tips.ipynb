{
 "cells": [
  {
   "cell_type": "markdown",
   "metadata": {},
   "source": [
    "# 1. If-elif simple usage"
   ]
  },
  {
   "cell_type": "code",
   "execution_count": 4,
   "metadata": {},
   "outputs": [
    {
     "name": "stdout",
     "output_type": "stream",
     "text": [
      "1\n"
     ]
    }
   ],
   "source": [
    "condition = True\n",
    "\n",
    "if condition:\n",
    "    x = 1\n",
    "else:\n",
    "    x = 0\n",
    "\n",
    "print(x)"
   ]
  },
  {
   "cell_type": "code",
   "execution_count": 6,
   "metadata": {},
   "outputs": [
    {
     "name": "stdout",
     "output_type": "stream",
     "text": [
      "1\n"
     ]
    }
   ],
   "source": [
    "condition = True\n",
    "\n",
    "x = 1 if condition else 0 # simpline line of if - else \n",
    "\n",
    "print(x)"
   ]
  },
  {
   "cell_type": "markdown",
   "metadata": {},
   "source": [
    "# 2. work with large nums"
   ]
  },
  {
   "cell_type": "code",
   "execution_count": 10,
   "metadata": {},
   "outputs": [
    {
     "name": "stdout",
     "output_type": "stream",
     "text": [
      "1001000000\n"
     ]
    }
   ],
   "source": [
    "num1 = 1000000000\n",
    "num2 = 1000000\n",
    "total = num1 + num2\n",
    "print(total)"
   ]
  },
  {
   "cell_type": "code",
   "execution_count": 11,
   "metadata": {},
   "outputs": [],
   "source": [
    "#same way for better visual"
   ]
  },
  {
   "cell_type": "code",
   "execution_count": 12,
   "metadata": {},
   "outputs": [
    {
     "name": "stdout",
     "output_type": "stream",
     "text": [
      "1,001,000,000\n"
     ]
    }
   ],
   "source": [
    "num1 = 1_000_000_000 # underline does not effect the true number\n",
    "num2 = 1_000_000\n",
    "total = num1 + num2\n",
    "print(f'{total:,}') # use format string to enhance visual for big number"
   ]
  },
  {
   "cell_type": "markdown",
   "metadata": {},
   "source": [
    "# 3. Read / write with a file"
   ]
  },
  {
   "cell_type": "code",
   "execution_count": 21,
   "metadata": {},
   "outputs": [
    {
     "name": "stdout",
     "output_type": "stream",
     "text": [
      "9\n",
      "['roger', 'tommy', 'geoffrey', 'simpson', 'sam\\nm', 'm', 'm', 'm', 'm']\n"
     ]
    }
   ],
   "source": [
    "f = open('test.txt', 'r')       \n",
    "file_contents = f.read()        \n",
    "f.close()\n",
    "\n",
    "words = file_contents.split(',')\n",
    "word_count = len(words)\n",
    "print(word_count)\n",
    "print(words)\n"
   ]
  },
  {
   "cell_type": "code",
   "execution_count": 20,
   "metadata": {},
   "outputs": [],
   "source": [
    "# Alternative way - better way"
   ]
  },
  {
   "cell_type": "code",
   "execution_count": 203,
   "metadata": {},
   "outputs": [
    {
     "name": "stdout",
     "output_type": "stream",
     "text": [
      "9\n",
      "['roger', 'tommy', 'geoffrey', 'simpson', 'sam\\nm', 'm', 'm', 'm', 'm']\n"
     ]
    }
   ],
   "source": [
    "with open('test.txt', 'r') as f:\n",
    "    file_contents = f.read()  # good way to avoid forgetting to close(), note! - do not do this when f is huge\n",
    "    \n",
    "words = file_contents.split(',')\n",
    "word_count = len(words)\n",
    "print(word_count)\n",
    "print(words)"
   ]
  },
  {
   "cell_type": "markdown",
   "metadata": {},
   "source": [
    "# 3. <font color = 'blue'>enumerate </font> function usage !!"
   ]
  },
  {
   "cell_type": "code",
   "execution_count": 31,
   "metadata": {},
   "outputs": [
    {
     "name": "stdout",
     "output_type": "stream",
     "text": [
      "0 Roger\n",
      "1 Sam\n",
      "2 Dave\n",
      "3 Simpson\n"
     ]
    }
   ],
   "source": [
    "# Old way  \n",
    "names = ['Roger', 'Sam', 'Dave', 'Simpson']\n",
    "\n",
    "i = 0\n",
    "for name in names:\n",
    "    print(i, name)\n",
    "    i += 1\n",
    "    "
   ]
  },
  {
   "cell_type": "code",
   "execution_count": 30,
   "metadata": {},
   "outputs": [],
   "source": [
    "# alternative way - usage the enumerate function"
   ]
  },
  {
   "cell_type": "code",
   "execution_count": 33,
   "metadata": {},
   "outputs": [
    {
     "name": "stdout",
     "output_type": "stream",
     "text": [
      "1 Roger\n",
      "2 Sam\n",
      "3 Dave\n",
      "4 Simpson\n"
     ]
    }
   ],
   "source": [
    "names = ['Roger', 'Sam', 'Dave', 'Simpson']\n",
    "\n",
    "for index, name in enumerate(names, start = 1): # you can speficify start number to use\n",
    "    print(index, name)\n",
    "    "
   ]
  },
  {
   "cell_type": "code",
   "execution_count": 32,
   "metadata": {},
   "outputs": [
    {
     "name": "stdout",
     "output_type": "stream",
     "text": [
      "0 Roger\n",
      "1 Sam\n",
      "2 Dave\n",
      "3 Simpson\n"
     ]
    }
   ],
   "source": [
    "names = ['Roger', 'Sam', 'Dave', 'Simpson']\n",
    "\n",
    "for index, name in enumerate(names): \n",
    "    print(index, name)\n",
    "    "
   ]
  },
  {
   "cell_type": "markdown",
   "metadata": {},
   "source": [
    "# 4. Loop with multi sieres of same len with <font color = 'blue'>zip</font> function !!"
   ]
  },
  {
   "cell_type": "code",
   "execution_count": 49,
   "metadata": {
    "scrolled": true
   },
   "outputs": [
    {
     "name": "stdout",
     "output_type": "stream",
     "text": [
      "A - Roger\n",
      "Roger is  with sequence of A\n",
      "B - Sam\n",
      "Sam is  with sequence of B\n",
      "C - Dave\n",
      "Dave is  with sequence of C\n",
      "D - Simpson\n",
      "Simpson is  with sequence of D\n"
     ]
    }
   ],
   "source": [
    "sequence   = ['a','b','c','d','e','f']\n",
    "names = ['Roger', 'Sam', 'Dave', 'Simpson']\n",
    "\n",
    "for seq, name in zip(sequence, names): # loop will stop with number of the smallest len of sieries\n",
    "    print(seq.upper(), '-', name)\n",
    "    print(f'{name} is  with sequence of {seq.upper()}')"
   ]
  },
  {
   "cell_type": "code",
   "execution_count": 81,
   "metadata": {},
   "outputs": [
    {
     "name": "stdout",
     "output_type": "stream",
     "text": [
      "a - Roger\n",
      "b - Sam\n",
      "c - Dave\n",
      "d - Simpson\n"
     ]
    }
   ],
   "source": [
    "identities = zip(sequence, names)\n",
    "\n",
    "# print(identities)\n",
    "\n",
    "for identity in identities:\n",
    "    print(identity[0], '-', identity[1])"
   ]
  },
  {
   "cell_type": "markdown",
   "metadata": {},
   "source": [
    "# 5. unpack the tupple value pairs !!"
   ]
  },
  {
   "cell_type": "code",
   "execution_count": 57,
   "metadata": {},
   "outputs": [
    {
     "name": "stdout",
     "output_type": "stream",
     "text": [
      "1\n",
      "2\n",
      "[3, 4, 5, 6]\n",
      "7\n"
     ]
    }
   ],
   "source": [
    "a, b, *c, d = (1,2,3,4,5,6,7)\n",
    "\n",
    "print(a)\n",
    "print(b)\n",
    "print(c)\n",
    "print(d)"
   ]
  },
  {
   "cell_type": "code",
   "execution_count": 58,
   "metadata": {},
   "outputs": [
    {
     "name": "stdout",
     "output_type": "stream",
     "text": [
      "1\n",
      "2\n",
      "7\n"
     ]
    }
   ],
   "source": [
    "a, b, *c_, d = (1,2,3,4,5,6,7)\n",
    "\n",
    "print(a)\n",
    "print(b)\n",
    "# print(c) # _ means that this variable will not be used\n",
    "print(d)"
   ]
  },
  {
   "cell_type": "markdown",
   "metadata": {},
   "source": [
    "# 6. Dynamically <font color ='blue'>setattr / getattr </font> to object !!"
   ]
  },
  {
   "cell_type": "markdown",
   "metadata": {},
   "source": [
    "class Person():\n",
    "    pass\n",
    "\n",
    "person = Person()\n",
    "\n",
    "person_info = {'first':'Roger','second':'Sam','third':'Sean','fourth':'simpson'}\n",
    "\n",
    "for key, value in person_info.items():\n",
    "    setattr(person, key, value)\n",
    "    \n",
    "for key in person_info.keys():\n",
    "    print(key, '-', getattr(person, key))"
   ]
  },
  {
   "cell_type": "markdown",
   "metadata": {},
   "source": [
    "# 7. Hide password input to screen"
   ]
  },
  {
   "cell_type": "code",
   "execution_count": 69,
   "metadata": {},
   "outputs": [
    {
     "name": "stdout",
     "output_type": "stream",
     "text": [
      "username: Roger\n",
      "password: ········\n",
      "Logging In ...\n"
     ]
    }
   ],
   "source": [
    "username = input('username: ')\n",
    "# password = input('password: ') # don't use this but following lines\n",
    "from getpass import getpass\n",
    "password = getpass('password: ')\n",
    "\n",
    "print('Logging In ...')\n"
   ]
  },
  {
   "cell_type": "markdown",
   "metadata": {},
   "source": [
    "# 8. Tricks of default value of a function, usage of time sleep"
   ]
  },
  {
   "cell_type": "code",
   "execution_count": 74,
   "metadata": {},
   "outputs": [
    {
     "name": "stdout",
     "output_type": "stream",
     "text": [
      "August 08, 2019 19:50:24\n",
      "August 08, 2019 19:50:25\n",
      "August 08, 2019 19:50:26\n"
     ]
    }
   ],
   "source": [
    "import time\n",
    "from datetime import datetime\n",
    "\n",
    "def display_time(time = None): # best practice of handling default value of the function\n",
    "    if (time == None):\n",
    "        time = datetime.now()\n",
    "        \n",
    "    print(time.strftime('%B %d, %Y %H:%M:%S'))    # date time format \n",
    "    \n",
    "display_time()\n",
    "time.sleep(1)\n",
    "\n",
    "display_time()\n",
    "time.sleep(1)\n",
    "\n",
    "display_time()\n",
    "time.sleep(1)\n"
   ]
  },
  {
   "cell_type": "markdown",
   "metadata": {},
   "source": [
    "# 9. iterateration -  iter, iterable, iterator - understanding !!"
   ]
  },
  {
   "cell_type": "code",
   "execution_count": 82,
   "metadata": {},
   "outputs": [],
   "source": [
    "# iterables =  可以遍历的"
   ]
  },
  {
   "cell_type": "code",
   "execution_count": 88,
   "metadata": {},
   "outputs": [
    {
     "name": "stdout",
     "output_type": "stream",
     "text": [
      "1\n",
      "2\n",
      "3\n"
     ]
    }
   ],
   "source": [
    "nums = [1,2,3]\n",
    "\n",
    "for num in nums:\n",
    "    print(num)"
   ]
  },
  {
   "cell_type": "code",
   "execution_count": 85,
   "metadata": {},
   "outputs": [],
   "source": [
    "# __iter__()  # magic methods"
   ]
  },
  {
   "cell_type": "code",
   "execution_count": 87,
   "metadata": {},
   "outputs": [
    {
     "name": "stdout",
     "output_type": "stream",
     "text": [
      "['__add__', '__class__', '__contains__', '__delattr__', '__delitem__', '__dir__', '__doc__', '__eq__', '__format__', '__ge__', '__getattribute__', '__getitem__', '__gt__', '__hash__', '__iadd__', '__imul__', '__init__', '__init_subclass__', '__iter__', '__le__', '__len__', '__lt__', '__mul__', '__ne__', '__new__', '__reduce__', '__reduce_ex__', '__repr__', '__reversed__', '__rmul__', '__setattr__', '__setitem__', '__sizeof__', '__str__', '__subclasshook__', 'append', 'clear', 'copy', 'count', 'extend', 'index', 'insert', 'pop', 'remove', 'reverse', 'sort']\n"
     ]
    }
   ],
   "source": [
    "print(dir(nums)) # check if the ojbect suppport iteration"
   ]
  },
  {
   "cell_type": "code",
   "execution_count": null,
   "metadata": {},
   "outputs": [],
   "source": []
  },
  {
   "cell_type": "code",
   "execution_count": 105,
   "metadata": {},
   "outputs": [
    {
     "name": "stdout",
     "output_type": "stream",
     "text": [
      "1\n",
      "2\n",
      "3\n"
     ]
    }
   ],
   "source": [
    "i_nums = iter(nums)\n",
    "\n",
    "# print(i_nums)\n",
    "\n",
    "# print(next(i_nums))\n",
    "# print(next(i_nums))\n",
    "# print(next(i_nums))\n",
    "# print(next(i_nums)) # the stopIntertion is expected\n",
    "\n",
    "while True:\n",
    "    try:\n",
    "        item = next(i_nums)\n",
    "        print(item)\n",
    "    except StopIteration:\n",
    "        break"
   ]
  },
  {
   "cell_type": "code",
   "execution_count": 108,
   "metadata": {},
   "outputs": [],
   "source": [
    "# use a generator to realize"
   ]
  },
  {
   "cell_type": "code",
   "execution_count": 121,
   "metadata": {},
   "outputs": [
    {
     "name": "stdout",
     "output_type": "stream",
     "text": [
      "1\n",
      "2\n",
      "3\n",
      "4\n",
      "5\n"
     ]
    }
   ],
   "source": [
    "def my_range(start, end):\n",
    "    current = start\n",
    "    while current <= end:\n",
    "        yield current\n",
    "        current += 1\n",
    "        \n",
    "nums = my_range(1,5) # this will generate a list [1,2,3,4,5]\n",
    "\n",
    "# print(list(nums)) # is this line is run, following for loop will not runnable anymore\n",
    "\n",
    "for num in nums:\n",
    "    print(num)"
   ]
  },
  {
   "cell_type": "markdown",
   "metadata": {},
   "source": [
    "#### itertools module"
   ]
  },
  {
   "cell_type": "code",
   "execution_count": 129,
   "metadata": {},
   "outputs": [],
   "source": [
    "import itertools"
   ]
  },
  {
   "cell_type": "code",
   "execution_count": 136,
   "metadata": {},
   "outputs": [],
   "source": [
    "counter = itertools.count(start = 0, step = 1) # 相当月一个全局变量, step can be minus value also"
   ]
  },
  {
   "cell_type": "code",
   "execution_count": 137,
   "metadata": {},
   "outputs": [
    {
     "name": "stdout",
     "output_type": "stream",
     "text": [
      "0\n",
      "1\n",
      "2\n"
     ]
    }
   ],
   "source": [
    "print(next(counter))\n",
    "print(next(counter))\n",
    "print(next(counter))"
   ]
  },
  {
   "cell_type": "code",
   "execution_count": 149,
   "metadata": {},
   "outputs": [
    {
     "name": "stdout",
     "output_type": "stream",
     "text": [
      "[(0, 100), (1, 200), (2, 300), (3, 400)]\n",
      "[(38, 100), (39, 200), (40, 300), (41, 400)]\n"
     ]
    }
   ],
   "source": [
    "data = [100,200,300,400]\n",
    "\n",
    "daily_data = list(zip(itertools.count(),data))\n",
    "daily_data_2 = list(zip(counter,data)) # note: counter here is a 全局变量\n",
    "\n",
    "print(daily_data)\n",
    "print(daily_data_2)"
   ]
  },
  {
   "cell_type": "code",
   "execution_count": null,
   "metadata": {},
   "outputs": [],
   "source": [
    "# use itertool cycle"
   ]
  },
  {
   "cell_type": "code",
   "execution_count": 157,
   "metadata": {},
   "outputs": [
    {
     "name": "stdout",
     "output_type": "stream",
     "text": [
      "1\n",
      "2\n",
      "3\n",
      "1\n",
      "2\n",
      "3\n",
      "1\n"
     ]
    }
   ],
   "source": [
    "counter_c = itertools.cycle([1,2,3])\n",
    "\n",
    "print(next(counter_c))\n",
    "print(next(counter_c))\n",
    "print(next(counter_c))\n",
    "print(next(counter_c))\n",
    "print(next(counter_c))\n",
    "print(next(counter_c))\n",
    "print(next(counter_c))"
   ]
  },
  {
   "cell_type": "code",
   "execution_count": 159,
   "metadata": {},
   "outputs": [
    {
     "name": "stdout",
     "output_type": "stream",
     "text": [
      "on\n",
      "off\n",
      "on\n",
      "off\n",
      "on\n"
     ]
    }
   ],
   "source": [
    "counter_c = itertools.cycle(['on','off']) # can be ['on','off']\n",
    "\n",
    "print(next(counter_c))\n",
    "print(next(counter_c))\n",
    "print(next(counter_c))\n",
    "print(next(counter_c))\n",
    "print(next(counter_c))"
   ]
  },
  {
   "cell_type": "code",
   "execution_count": null,
   "metadata": {},
   "outputs": [],
   "source": [
    "# use itertools counter to repeat"
   ]
  },
  {
   "cell_type": "code",
   "execution_count": 174,
   "metadata": {},
   "outputs": [
    {
     "name": "stdout",
     "output_type": "stream",
     "text": [
      "['yes', 'yes', 'yes']\n"
     ]
    }
   ],
   "source": [
    "counter_r = itertools.repeat('yes', times = 3)\n",
    "\n",
    "print(list(counter_r))"
   ]
  },
  {
   "cell_type": "code",
   "execution_count": 164,
   "metadata": {},
   "outputs": [],
   "source": [
    "# all possible combinations and permutations"
   ]
  },
  {
   "cell_type": "code",
   "execution_count": 166,
   "metadata": {},
   "outputs": [],
   "source": [
    "letters = ['a','b','c','d']\n",
    "numbers = [0,1,2,3]\n",
    "names = ['Roger','Sean']"
   ]
  },
  {
   "cell_type": "code",
   "execution_count": 172,
   "metadata": {},
   "outputs": [
    {
     "name": "stdout",
     "output_type": "stream",
     "text": [
      "('a', 'b', 'c')\n",
      "('a', 'b', 'd')\n",
      "('a', 'c', 'd')\n",
      "('b', 'c', 'd')\n"
     ]
    }
   ],
   "source": [
    "result_1 = itertools.combinations(letters, 3) # combination - 组合中不计较顺序,element 不重复\n",
    "\n",
    "for item in result_1:\n",
    "    print(item)"
   ]
  },
  {
   "cell_type": "code",
   "execution_count": 184,
   "metadata": {},
   "outputs": [
    {
     "name": "stdout",
     "output_type": "stream",
     "text": [
      "('a', 'b', 'c', 'd')\n",
      "('a', 'b', 'd', 'c')\n",
      "('a', 'c', 'b', 'd')\n",
      "('a', 'c', 'd', 'b')\n",
      "('a', 'd', 'b', 'c')\n",
      "('a', 'd', 'c', 'b')\n",
      "('b', 'a', 'c', 'd')\n",
      "('b', 'a', 'd', 'c')\n",
      "('b', 'c', 'a', 'd')\n",
      "('b', 'c', 'd', 'a')\n",
      "('b', 'd', 'a', 'c')\n",
      "('b', 'd', 'c', 'a')\n",
      "('c', 'a', 'b', 'd')\n",
      "('c', 'a', 'd', 'b')\n",
      "('c', 'b', 'a', 'd')\n",
      "('c', 'b', 'd', 'a')\n",
      "('c', 'd', 'a', 'b')\n",
      "('c', 'd', 'b', 'a')\n",
      "('d', 'a', 'b', 'c')\n",
      "('d', 'a', 'c', 'b')\n",
      "('d', 'b', 'a', 'c')\n",
      "('d', 'b', 'c', 'a')\n",
      "('d', 'c', 'a', 'b')\n",
      "('d', 'c', 'b', 'a')\n"
     ]
    }
   ],
   "source": [
    "result_2 = itertools.permutations(letters, 4) # permutations - 组合中计较顺序, element 不重复\n",
    "\n",
    "# print(len(list(result_2)))\n",
    "\n",
    "for item in result_2:\n",
    "    print(item)"
   ]
  },
  {
   "cell_type": "code",
   "execution_count": null,
   "metadata": {},
   "outputs": [],
   "source": [
    "# use product (allow element to repeat certin times)"
   ]
  },
  {
   "cell_type": "code",
   "execution_count": 189,
   "metadata": {},
   "outputs": [
    {
     "name": "stdout",
     "output_type": "stream",
     "text": [
      "('a', 'a', 'a')\n",
      "('a', 'a', 'b')\n",
      "('a', 'a', 'c')\n",
      "('a', 'a', 'd')\n",
      "('a', 'b', 'a')\n",
      "('a', 'b', 'b')\n",
      "('a', 'b', 'c')\n",
      "('a', 'b', 'd')\n",
      "('a', 'c', 'a')\n",
      "('a', 'c', 'b')\n",
      "('a', 'c', 'c')\n",
      "('a', 'c', 'd')\n",
      "('a', 'd', 'a')\n",
      "('a', 'd', 'b')\n",
      "('a', 'd', 'c')\n",
      "('a', 'd', 'd')\n",
      "('b', 'a', 'a')\n",
      "('b', 'a', 'b')\n",
      "('b', 'a', 'c')\n",
      "('b', 'a', 'd')\n",
      "('b', 'b', 'a')\n",
      "('b', 'b', 'b')\n",
      "('b', 'b', 'c')\n",
      "('b', 'b', 'd')\n",
      "('b', 'c', 'a')\n",
      "('b', 'c', 'b')\n",
      "('b', 'c', 'c')\n",
      "('b', 'c', 'd')\n",
      "('b', 'd', 'a')\n",
      "('b', 'd', 'b')\n",
      "('b', 'd', 'c')\n",
      "('b', 'd', 'd')\n",
      "('c', 'a', 'a')\n",
      "('c', 'a', 'b')\n",
      "('c', 'a', 'c')\n",
      "('c', 'a', 'd')\n",
      "('c', 'b', 'a')\n",
      "('c', 'b', 'b')\n",
      "('c', 'b', 'c')\n",
      "('c', 'b', 'd')\n",
      "('c', 'c', 'a')\n",
      "('c', 'c', 'b')\n",
      "('c', 'c', 'c')\n",
      "('c', 'c', 'd')\n",
      "('c', 'd', 'a')\n",
      "('c', 'd', 'b')\n",
      "('c', 'd', 'c')\n",
      "('c', 'd', 'd')\n",
      "('d', 'a', 'a')\n",
      "('d', 'a', 'b')\n",
      "('d', 'a', 'c')\n",
      "('d', 'a', 'd')\n",
      "('d', 'b', 'a')\n",
      "('d', 'b', 'b')\n",
      "('d', 'b', 'c')\n",
      "('d', 'b', 'd')\n",
      "('d', 'c', 'a')\n",
      "('d', 'c', 'b')\n",
      "('d', 'c', 'c')\n",
      "('d', 'c', 'd')\n",
      "('d', 'd', 'a')\n",
      "('d', 'd', 'b')\n",
      "('d', 'd', 'c')\n",
      "('d', 'd', 'd')\n"
     ]
    }
   ],
   "source": [
    "result_3 = itertools.product(letters, repeat = 3)  # product - 组合中计较顺序, element 可重复指定次数\n",
    "\n",
    "for item in result_3:\n",
    "    print(item)"
   ]
  },
  {
   "cell_type": "code",
   "execution_count": 190,
   "metadata": {},
   "outputs": [],
   "source": [
    "# combinations_with_replacement"
   ]
  },
  {
   "cell_type": "code",
   "execution_count": 194,
   "metadata": {},
   "outputs": [
    {
     "name": "stdout",
     "output_type": "stream",
     "text": [
      "(0, 0, 0)\n",
      "(0, 0, 1)\n",
      "(0, 0, 2)\n",
      "(0, 0, 3)\n",
      "(0, 1, 1)\n",
      "(0, 1, 2)\n",
      "(0, 1, 3)\n",
      "(0, 2, 2)\n",
      "(0, 2, 3)\n",
      "(0, 3, 3)\n",
      "(1, 1, 1)\n",
      "(1, 1, 2)\n",
      "(1, 1, 3)\n",
      "(1, 2, 2)\n",
      "(1, 2, 3)\n",
      "(1, 3, 3)\n",
      "(2, 2, 2)\n",
      "(2, 2, 3)\n",
      "(2, 3, 3)\n",
      "(3, 3, 3)\n"
     ]
    }
   ],
   "source": [
    "result_4 = itertools.combinations_with_replacement(numbers, 3)  # allow repeat, and generate a product\n",
    "for item in result_4:\n",
    "    print(item)"
   ]
  },
  {
   "cell_type": "code",
   "execution_count": 195,
   "metadata": {},
   "outputs": [],
   "source": [
    "# use Chain"
   ]
  },
  {
   "cell_type": "code",
   "execution_count": 196,
   "metadata": {},
   "outputs": [],
   "source": [
    "combined = letters + numbers + names"
   ]
  },
  {
   "cell_type": "code",
   "execution_count": 197,
   "metadata": {},
   "outputs": [
    {
     "name": "stdout",
     "output_type": "stream",
     "text": [
      "['a', 'b', 'c', 'd', 0, 1, 2, 3, 'Roger', 'Sean']\n"
     ]
    }
   ],
   "source": [
    "print(combined)"
   ]
  },
  {
   "cell_type": "code",
   "execution_count": 198,
   "metadata": {},
   "outputs": [
    {
     "name": "stdout",
     "output_type": "stream",
     "text": [
      "a\n",
      "b\n",
      "c\n",
      "d\n",
      "0\n",
      "1\n",
      "2\n",
      "3\n",
      "Roger\n",
      "Sean\n"
     ]
    }
   ],
   "source": [
    "combined_1 = itertools.chain(letters, numbers,names)\n",
    "\n",
    "for item in combined_1:\n",
    "    print(item)"
   ]
  },
  {
   "cell_type": "code",
   "execution_count": 199,
   "metadata": {},
   "outputs": [],
   "source": [
    "# use iSlice"
   ]
  },
  {
   "cell_type": "code",
   "execution_count": 201,
   "metadata": {},
   "outputs": [
    {
     "name": "stdout",
     "output_type": "stream",
     "text": [
      "roger,tommy,geoffrey,simpson,sam\n",
      "m,m,m,m,m"
     ]
    }
   ],
   "source": [
    "with open('test.txt','r') as f:\n",
    "    header = itertools.islice(f, 2) # use case : suppose there are a million lines in the file\n",
    "    \n",
    "    for line in header:\n",
    "        print(line, end ='')"
   ]
  },
  {
   "cell_type": "code",
   "execution_count": 204,
   "metadata": {},
   "outputs": [],
   "source": [
    "# use accumulate"
   ]
  },
  {
   "cell_type": "code",
   "execution_count": 225,
   "metadata": {},
   "outputs": [
    {
     "name": "stdout",
     "output_type": "stream",
     "text": [
      "1\n",
      "2\n",
      "6\n",
      "24\n",
      "120\n",
      "===\n",
      "1\n",
      "3\n",
      "6\n",
      "10\n",
      "15\n"
     ]
    }
   ],
   "source": [
    "import operator\n",
    "\n",
    "numbers_1 = [1,2,3,4,5]\n",
    "agg_1 = itertools.accumulate(numbers_1, operator.mul) # 个字乘以后一个number\n",
    "agg_2 = itertools.accumulate(numbers_1, operator.add) # 个字加后一个number\n",
    "\n",
    "for item in agg_1:\n",
    "    print(item)\n",
    "    \n",
    "print('===')\n",
    "\n",
    "for item in agg_2:\n",
    "    print(item)"
   ]
  },
  {
   "cell_type": "code",
   "execution_count": 219,
   "metadata": {},
   "outputs": [
    {
     "name": "stdout",
     "output_type": "stream",
     "text": [
      "['__abs__', '__add__', '__all__', '__and__', '__builtins__', '__cached__', '__concat__', '__contains__', '__delitem__', '__doc__', '__eq__', '__file__', '__floordiv__', '__ge__', '__getitem__', '__gt__', '__iadd__', '__iand__', '__iconcat__', '__ifloordiv__', '__ilshift__', '__imatmul__', '__imod__', '__imul__', '__index__', '__inv__', '__invert__', '__ior__', '__ipow__', '__irshift__', '__isub__', '__itruediv__', '__ixor__', '__le__', '__loader__', '__lshift__', '__lt__', '__matmul__', '__mod__', '__mul__', '__name__', '__ne__', '__neg__', '__not__', '__or__', '__package__', '__pos__', '__pow__', '__rshift__', '__setitem__', '__spec__', '__sub__', '__truediv__', '__xor__', '_abs', 'abs', 'add', 'and_', 'attrgetter', 'concat', 'contains', 'countOf', 'delitem', 'eq', 'floordiv', 'ge', 'getitem', 'gt', 'iadd', 'iand', 'iconcat', 'ifloordiv', 'ilshift', 'imatmul', 'imod', 'imul', 'index', 'indexOf', 'inv', 'invert', 'ior', 'ipow', 'irshift', 'is_', 'is_not', 'isub', 'itemgetter', 'itruediv', 'ixor', 'le', 'length_hint', 'lshift', 'lt', 'matmul', 'methodcaller', 'mod', 'mul', 'ne', 'neg', 'not_', 'or_', 'pos', 'pow', 'rshift', 'setitem', 'sub', 'truediv', 'truth', 'xor']\n"
     ]
    }
   ],
   "source": [
    "print(dir(operator)) # check what func is supported"
   ]
  },
  {
   "cell_type": "markdown",
   "metadata": {},
   "source": [
    "# Set"
   ]
  },
  {
   "cell_type": "code",
   "execution_count": 238,
   "metadata": {},
   "outputs": [
    {
     "name": "stdout",
     "output_type": "stream",
     "text": [
      "{1, 2, 3, 4, 5, 8}\n"
     ]
    }
   ],
   "source": [
    "s1 = {1,2,3,4,5,3,5,8,2}\n",
    "s2 = {7,6,11}\n",
    "print(s1)"
   ]
  },
  {
   "cell_type": "code",
   "execution_count": 239,
   "metadata": {},
   "outputs": [
    {
     "name": "stdout",
     "output_type": "stream",
     "text": [
      "{1, 2, 3, 4, 5, 6, 8}\n"
     ]
    }
   ],
   "source": [
    "s1.add(6) # add a single value\n",
    "print(s1)"
   ]
  },
  {
   "cell_type": "code",
   "execution_count": 240,
   "metadata": {},
   "outputs": [
    {
     "name": "stdout",
     "output_type": "stream",
     "text": [
      "{1, 2, 3, 4, 5, 6, 7, 8, 9, 10, 11}\n"
     ]
    }
   ],
   "source": [
    "s1.update([7,9,10], s2) # update a set\n",
    "print(s1)"
   ]
  },
  {
   "cell_type": "code",
   "execution_count": 241,
   "metadata": {},
   "outputs": [],
   "source": [
    "s1.remove(7) # remove single value from value, value has to exist otherwise Python gives error"
   ]
  },
  {
   "cell_type": "code",
   "execution_count": null,
   "metadata": {},
   "outputs": [],
   "source": [
    "# intersection - find the comon part"
   ]
  },
  {
   "cell_type": "code",
   "execution_count": 243,
   "metadata": {},
   "outputs": [
    {
     "name": "stdout",
     "output_type": "stream",
     "text": [
      "{3}\n"
     ]
    }
   ],
   "source": [
    "ss1 = {1,2,3}\n",
    "ss2 = {2,3,4}\n",
    "ss3 = {3,4,5}\n",
    "\n",
    "ss4 = ss1.intersection(ss2, ss3)\n",
    "print(ss4)"
   ]
  },
  {
   "cell_type": "code",
   "execution_count": null,
   "metadata": {},
   "outputs": [],
   "source": [
    "# difference 找不同"
   ]
  },
  {
   "cell_type": "code",
   "execution_count": 255,
   "metadata": {},
   "outputs": [
    {
     "name": "stdout",
     "output_type": "stream",
     "text": [
      "{1}\n",
      "{4}\n",
      "{5}\n",
      "{1, 4}\n",
      "{1, 4}\n"
     ]
    }
   ],
   "source": [
    "print(ss1.difference(ss2))\n",
    "print(ss2.difference(ss1))\n",
    "print(ss3.difference(ss1,ss2))\n",
    "print(ss2.symmetric_difference(ss1))\n",
    "print(ss1.symmetric_difference(ss2))"
   ]
  },
  {
   "cell_type": "code",
   "execution_count": 325,
   "metadata": {},
   "outputs": [
    {
     "name": "stdout",
     "output_type": "stream",
     "text": [
      "{'Simpson'}\n",
      "{'Sam', 'Roger'}\n",
      "{'Simpson', 'Geoffrey'}\n",
      "{'Sam', 'Roger', 'Simpson', 'Geoffrey'}\n"
     ]
    }
   ],
   "source": [
    "emps = ['Roger', 'Roger','Sam', 'Simpson']\n",
    "devs = ['Sam', 'Roger','Sam','Roger','Geoffrey']\n",
    "\n",
    "results_1 = set(emps).difference(devs)\n",
    "print(results_1)\n",
    "\n",
    "results_2 = set(emps).intersection(devs)\n",
    "print(results_2)\n",
    "\n",
    "results_3 = set(emps).symmetric_difference(devs)\n",
    "print(results_3)\n",
    "\n",
    "results_4 = set(emps).union(devs)\n",
    "print(results_4)"
   ]
  },
  {
   "cell_type": "code",
   "execution_count": 267,
   "metadata": {},
   "outputs": [
    {
     "name": "stdout",
     "output_type": "stream",
     "text": [
      "['Simpson', 'Geoffrey']\n"
     ]
    }
   ],
   "source": [
    "print(list(results_3)) # list 和 set 可以相互转化"
   ]
  },
  {
   "cell_type": "markdown",
   "metadata": {},
   "source": [
    "## List comprehension"
   ]
  },
  {
   "cell_type": "code",
   "execution_count": 270,
   "metadata": {},
   "outputs": [
    {
     "name": "stdout",
     "output_type": "stream",
     "text": [
      "[2, 4, 6, 8, 10, 12]\n"
     ]
    }
   ],
   "source": [
    "nums = [1,2,3,4,5,6]\n",
    "\n",
    "my_list = [n*2 for n in nums]\n",
    "print(my_list)"
   ]
  },
  {
   "cell_type": "code",
   "execution_count": 274,
   "metadata": {},
   "outputs": [
    {
     "name": "stdout",
     "output_type": "stream",
     "text": [
      "[5, 7, 9]\n"
     ]
    }
   ],
   "source": [
    "my_list = [n+3 for n in nums if n%2 ==0]\n",
    "print(my_list)"
   ]
  },
  {
   "cell_type": "code",
   "execution_count": 275,
   "metadata": {},
   "outputs": [],
   "source": [
    "# generate a dict"
   ]
  },
  {
   "cell_type": "code",
   "execution_count": 277,
   "metadata": {},
   "outputs": [
    {
     "name": "stdout",
     "output_type": "stream",
     "text": [
      "{'a': 'Roger', 'b': 'Sam', 'c': 'Dave', 'd': 'Simpson', 'e': 'Peter'}\n"
     ]
    }
   ],
   "source": [
    "seq = ['a','b','c','d','e','f']\n",
    "names = ['Roger', 'Sam', 'Dave', 'Simpson','Peter']\n",
    "\n",
    "my_dict ={seq:names for seq, names in zip(seq,names)}\n",
    "print(my_dict)"
   ]
  },
  {
   "cell_type": "code",
   "execution_count": 278,
   "metadata": {},
   "outputs": [
    {
     "name": "stdout",
     "output_type": "stream",
     "text": [
      "{'a': 'Roger', 'b': 'Sam', 'c': 'Dave', 'd': 'Simpson'}\n"
     ]
    }
   ],
   "source": [
    "my_dict ={seq:names for seq, names in zip(seq,names) if names !='Peter'}\n",
    "print(my_dict)"
   ]
  },
  {
   "cell_type": "code",
   "execution_count": 279,
   "metadata": {},
   "outputs": [],
   "source": [
    "# generator expressions"
   ]
  },
  {
   "cell_type": "code",
   "execution_count": 285,
   "metadata": {},
   "outputs": [
    {
     "name": "stdout",
     "output_type": "stream",
     "text": [
      "{1, 4, 36, 9, 16, 25}\n",
      "1\n",
      "4\n",
      "36\n",
      "9\n",
      "16\n",
      "25\n"
     ]
    }
   ],
   "source": [
    "nums = [1,2,3,4,5,6]\n",
    "\n",
    "my_gen =  [n*n for n in nums)]\n",
    "# my_gen =  {n*n for n in nums)} # this works also\n",
    "# my_gen =  (n*n for n in nums)) # this works also\n",
    "\n",
    "print(my_gen)\n",
    "\n",
    "for i in my_gen:\n",
    "    print(i)"
   ]
  },
  {
   "cell_type": "markdown",
   "metadata": {},
   "source": [
    "# List, Tuples, Set"
   ]
  },
  {
   "cell_type": "code",
   "execution_count": 302,
   "metadata": {},
   "outputs": [
    {
     "name": "stdout",
     "output_type": "stream",
     "text": [
      "['a', 'b', 'c', 'd']\n",
      "['i', 'a', 'b', 'c', 'd']\n",
      "['i', 'a', 'b', 'c', 'd', 'e', 'f']\n",
      "['a', 'b', 'c', 'd', 'e', 'f']\n",
      "['a', 'b', 'c', 'd', 'e']\n"
     ]
    }
   ],
   "source": [
    "list_1 = ['a','b','c']\n",
    "list_2 =['e','f']\n",
    "\n",
    "list_1.append('d')\n",
    "print(list_1)\n",
    "\n",
    "list_1.insert(0,'i')\n",
    "print(list_1)\n",
    "\n",
    "list_1.extend(list_2)\n",
    "print(list_1)\n",
    "\n",
    "list_1.remove('i')\n",
    "print(list_1)\n",
    "\n",
    "list_1.pop()\n",
    "print(list_1)"
   ]
  },
  {
   "cell_type": "code",
   "execution_count": 312,
   "metadata": {},
   "outputs": [
    {
     "name": "stdout",
     "output_type": "stream",
     "text": [
      "['e', 'd', 'c', 'b', 'a']\n"
     ]
    }
   ],
   "source": [
    "list_1.sort(reverse = True)\n",
    "print(list_1)"
   ]
  },
  {
   "cell_type": "code",
   "execution_count": 313,
   "metadata": {},
   "outputs": [
    {
     "data": {
      "text/plain": [
       "['e', 'd', 'c', 'b', 'a']"
      ]
     },
     "execution_count": 313,
     "metadata": {},
     "output_type": "execute_result"
    }
   ],
   "source": [
    "list_1"
   ]
  },
  {
   "cell_type": "code",
   "execution_count": 315,
   "metadata": {},
   "outputs": [
    {
     "data": {
      "text/plain": [
       "['a', 'b', 'c', 'd', 'e']"
      ]
     },
     "execution_count": 315,
     "metadata": {},
     "output_type": "execute_result"
    }
   ],
   "source": [
    "sorted(list_1)"
   ]
  },
  {
   "cell_type": "code",
   "execution_count": 318,
   "metadata": {},
   "outputs": [
    {
     "name": "stdout",
     "output_type": "stream",
     "text": [
      "2\n"
     ]
    },
    {
     "ename": "ValueError",
     "evalue": "'g' is not in list",
     "output_type": "error",
     "traceback": [
      "\u001b[1;31m---------------------------------------------------------------------------\u001b[0m",
      "\u001b[1;31mValueError\u001b[0m                                Traceback (most recent call last)",
      "\u001b[1;32m<ipython-input-318-5049d26603ed>\u001b[0m in \u001b[0;36m<module>\u001b[1;34m\u001b[0m\n\u001b[0;32m      1\u001b[0m \u001b[1;31m# find the postion of the list\u001b[0m\u001b[1;33m\u001b[0m\u001b[1;33m\u001b[0m\u001b[1;33m\u001b[0m\u001b[0m\n\u001b[0;32m      2\u001b[0m \u001b[0mprint\u001b[0m\u001b[1;33m(\u001b[0m\u001b[0mlist_1\u001b[0m\u001b[1;33m.\u001b[0m\u001b[0mindex\u001b[0m\u001b[1;33m(\u001b[0m\u001b[1;34m'c'\u001b[0m\u001b[1;33m)\u001b[0m\u001b[1;33m)\u001b[0m\u001b[1;33m\u001b[0m\u001b[1;33m\u001b[0m\u001b[0m\n\u001b[1;32m----> 3\u001b[1;33m \u001b[0mprint\u001b[0m\u001b[1;33m(\u001b[0m\u001b[0mlist_1\u001b[0m\u001b[1;33m.\u001b[0m\u001b[0mindex\u001b[0m\u001b[1;33m(\u001b[0m\u001b[1;34m'g'\u001b[0m\u001b[1;33m)\u001b[0m\u001b[1;33m)\u001b[0m\u001b[1;33m\u001b[0m\u001b[1;33m\u001b[0m\u001b[0m\n\u001b[0m",
      "\u001b[1;31mValueError\u001b[0m: 'g' is not in list"
     ]
    }
   ],
   "source": [
    "# find the postion / index of the list\n",
    "print(list_1.index('c'))\n",
    "# print(list_1.index('g'))"
   ]
  },
  {
   "cell_type": "code",
   "execution_count": 319,
   "metadata": {},
   "outputs": [
    {
     "data": {
      "text/plain": [
       "True"
      ]
     },
     "execution_count": 319,
     "metadata": {},
     "output_type": "execute_result"
    }
   ],
   "source": [
    "'c' in list_1 # in function with a list"
   ]
  },
  {
   "cell_type": "code",
   "execution_count": 320,
   "metadata": {},
   "outputs": [],
   "source": [
    "# join function from a list\n"
   ]
  },
  {
   "cell_type": "code",
   "execution_count": 321,
   "metadata": {},
   "outputs": [
    {
     "name": "stdout",
     "output_type": "stream",
     "text": [
      "math, english, physics, CompSci\n"
     ]
    }
   ],
   "source": [
    "courses = ['math','english', 'physics','CompSci']\n",
    "\n",
    "courses_str = ', '.join(courses) # list 生成 str\n",
    "print(courses_str)"
   ]
  },
  {
   "cell_type": "code",
   "execution_count": 322,
   "metadata": {},
   "outputs": [
    {
     "name": "stdout",
     "output_type": "stream",
     "text": [
      "['math', 'english', 'physics', 'CompSci']\n"
     ]
    }
   ],
   "source": [
    "new_list = courses_str.split(', ') # str split成list\n",
    "print(new_list) "
   ]
  },
  {
   "cell_type": "code",
   "execution_count": 323,
   "metadata": {},
   "outputs": [],
   "source": [
    "# List is mutable, but tuple is not!!!"
   ]
  },
  {
   "cell_type": "code",
   "execution_count": null,
   "metadata": {},
   "outputs": [],
   "source": [
    "# set does not care about order, nor duplicated value"
   ]
  }
 ],
 "metadata": {
  "kernelspec": {
   "display_name": "Python 3",
   "language": "python",
   "name": "python3"
  },
  "language_info": {
   "codemirror_mode": {
    "name": "ipython",
    "version": 3
   },
   "file_extension": ".py",
   "mimetype": "text/x-python",
   "name": "python",
   "nbconvert_exporter": "python",
   "pygments_lexer": "ipython3",
   "version": "3.7.3"
  }
 },
 "nbformat": 4,
 "nbformat_minor": 2
}
