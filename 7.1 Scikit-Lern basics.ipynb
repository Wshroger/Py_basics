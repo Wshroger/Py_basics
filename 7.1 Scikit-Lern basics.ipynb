{
 "cells": [
  {
   "cell_type": "markdown",
   "metadata": {},
   "source": [
    "# Basic Models\n",
    "\n",
    "## SVMs\n",
    "- for classifiction and regression (SVCs, SVRs)\n",
    "- can be applied on linear and non-linear data\n",
    "- look for the best seperating line or decision boundary \n",
    "- look for the largest margin\n",
    "### Commonly used kernels:\n",
    "- linear\n",
    "- polynomial\n",
    "- radical basis function (RBF) - Gaussian RBF\n",
    "- sigmoid\n",
    "- etc.\n",
    "\n",
    "### Stronger point\n",
    " - they are versatile\n",
    " - can build complex decision boundaries on low-dimensional data\n",
    " - can work well on high-dimensional data with relatively small sample data\n",
    "### Alteratives\n",
    " - DT and Random Forest\n",
    "### Good practices:\n",
    " - data scaling\n",
    " - other pre-processing\n",
    " - chossing an approriate kernel\n",
    " - tuning hyper-apra: C, gamma, etc.\n"
   ]
  },
  {
   "cell_type": "code",
   "execution_count": 7,
   "metadata": {},
   "outputs": [
    {
     "name": "stdout",
     "output_type": "stream",
     "text": [
      "The accuracy on the training subset: 1.000\n",
      "The accuracy on the test subset: 0.629\n"
     ]
    }
   ],
   "source": [
    "import matplotlib.pyplot as plt\n",
    "%matplotlib inline\n",
    "\n",
    "from sklearn.svm import SVC\n",
    "from sklearn.model_selection import train_test_split\n",
    "from sklearn.datasets import load_breast_cancer\n",
    "\n",
    "cancer = load_breast_cancer()\n",
    "\n",
    "x_train, x_test, y_train, y_test = train_test_split(cancer.data, cancer.target, random_state = 0)\n",
    "\n",
    "svm = SVC(gamma='auto') # can shift + tab to check other parameters to finetune the model\n",
    "svm.fit(x_train, y_train)\n",
    "\n",
    "print('The accuracy on the training subset: {:.3f}'.format(svm.score(x_train, y_train)))\n",
    "print('The accuracy on the test subset: {:.3f}'.format(svm.score(x_test, y_test)))"
   ]
  },
  {
   "cell_type": "code",
   "execution_count": 8,
   "metadata": {},
   "outputs": [],
   "source": [
    "## about results shows that it is overfitting"
   ]
  },
  {
   "cell_type": "code",
   "execution_count": 9,
   "metadata": {},
   "outputs": [
    {
     "data": {
      "text/plain": [
       "sklearn.utils.Bunch"
      ]
     },
     "execution_count": 9,
     "metadata": {},
     "output_type": "execute_result"
    }
   ],
   "source": [
    "type(cancer)  # tlooks not a Pandas Dataframe format"
   ]
  },
  {
   "cell_type": "code",
   "execution_count": 4,
   "metadata": {},
   "outputs": [
    {
     "data": {
      "text/plain": [
       "<matplotlib.legend.Legend at 0x230ca651ba8>"
      ]
     },
     "execution_count": 4,
     "metadata": {},
     "output_type": "execute_result"
    },
    {
     "data": {
      "image/png": "[encoded data removed]",
      "text/plain": [
       "<Figure size 432x288 with 1 Axes>"
      ]
     },
     "metadata": {
      "needs_background": "light"
     },
     "output_type": "display_data"
    }
   ],
   "source": [
    "# finetune the scale for better results\n",
    "\n",
    "plt.plot(x_train.min(axis = 0),'o', label = 'min')\n",
    "plt.plot(x_train.max(axis = 0), 'v', label ='max')\n",
    "plt.xlabel('Feature index')\n",
    "plt.ylabel('Feature magnitude in log Scale')\n",
    "plt.yscale('log') # what does this mean - to check\n",
    "plt.legend(loc = 'upper right')"
   ]
  },
  {
   "cell_type": "code",
   "execution_count": 12,
   "metadata": {},
   "outputs": [
    {
     "name": "stdout",
     "output_type": "stream",
     "text": [
      "The accuracy on the training subset: 0.904\n",
      "The accuracy on the test subset: 0.937\n"
     ]
    }
   ],
   "source": [
    "# finetune with gamma parameter\n",
    "\n",
    "svm_s = SVC(gamma='scale')\n",
    "\n",
    "svm_s.fit(x_train, y_train)\n",
    "\n",
    "print('The accuracy on the training subset: {:.3f}'.format(svm_s.score(x_train, y_train)))\n",
    "print('The accuracy on the test subset: {:.3f}'.format(svm_s.score(x_test, y_test)))"
   ]
  },
  {
   "cell_type": "code",
   "execution_count": 21,
   "metadata": {},
   "outputs": [
    {
     "name": "stdout",
     "output_type": "stream",
     "text": [
      "The accuracy on the training subset: 0.958\n",
      "The accuracy on the test subset: 0.951\n"
     ]
    }
   ],
   "source": [
    "# finetune with C parameter, remember C is in capital\n",
    "\n",
    "svm_c1000 = SVC(C=1000,gamma = 'scale')\n",
    "\n",
    "svm_c1000.fit(x_train, y_train)\n",
    "\n",
    "print('The accuracy on the training subset: {:.3f}'.format(svm_c1000.score(x_train, y_train)))\n",
    "print('The accuracy on the test subset: {:.3f}'.format(svm_c1000.score(x_test, y_test)))"
   ]
  },
  {
   "cell_type": "markdown",
   "metadata": {},
   "source": [
    "# Uncertainty Esimation - decision function"
   ]
  },
  {
   "cell_type": "code",
   "execution_count": 26,
   "metadata": {},
   "outputs": [
    {
     "name": "stdout",
     "output_type": "stream",
     "text": [
      "the decision function is:\n",
      "\n",
      "[ 0.27549261  1.17477047  1.05351991  0.49776805  1.47432821  1.43431027\n",
      "  1.51618426  1.47797692  1.38755037  1.57199207  0.55567942  0.59648076\n",
      "  1.54547877 -0.33403454  0.5831279  -0.78214212  1.4875985  -2.29368902\n",
      " -1.36159662 -2.24211669]\n"
     ]
    }
   ],
   "source": [
    "print('the decision function is:\\n\\n{}'.format(svm_s.decision_function(x_test)[:20]))"
   ]
  },
  {
   "cell_type": "code",
   "execution_count": 27,
   "metadata": {},
   "outputs": [
    {
     "name": "stdout",
     "output_type": "stream",
     "text": [
      "Threshold decision fnction:\n",
      "\n",
      "[ True  True  True  True  True  True  True  True  True  True  True  True\n",
      "  True False  True False  True False False False]\n"
     ]
    }
   ],
   "source": [
    "print('Threshold decision fnction:\\n\\n{}'.format(svm_s.decision_function(x_test)[:20]>0))"
   ]
  },
  {
   "cell_type": "code",
   "execution_count": 24,
   "metadata": {},
   "outputs": [
    {
     "data": {
      "text/plain": [
       "array([0, 1])"
      ]
     },
     "execution_count": 24,
     "metadata": {},
     "output_type": "execute_result"
    }
   ],
   "source": [
    "svm.classes_"
   ]
  },
  {
   "cell_type": "markdown",
   "metadata": {},
   "source": [
    "# Predicting probability"
   ]
  },
  {
   "cell_type": "code",
   "execution_count": 29,
   "metadata": {},
   "outputs": [
    {
     "data": {
      "text/plain": [
       "SVC(C=1.0, cache_size=200, class_weight=None, coef0=0.0,\n",
       "  decision_function_shape='ovr', degree=3, gamma='auto', kernel='rbf',\n",
       "  max_iter=-1, probability=False, random_state=None, shrinking=True,\n",
       "  tol=0.001, verbose=False)"
      ]
     },
     "execution_count": 29,
     "metadata": {},
     "output_type": "execute_result"
    }
   ],
   "source": [
    "svm # default probablitity is False"
   ]
  },
  {
   "cell_type": "code",
   "execution_count": 55,
   "metadata": {},
   "outputs": [
    {
     "name": "stdout",
     "output_type": "stream",
     "text": [
      "Predicted probabiblities for the samples (magligant and bening):\n",
      "\n",
      "[[0.0070423  0.97885894 0.01409876]\n",
      " [0.94781933 0.03572811 0.01645256]\n",
      " [0.02017893 0.00413399 0.97568708]\n",
      " [0.00752856 0.92633241 0.06613903]\n",
      " [0.01030549 0.95251636 0.03717815]\n",
      " [0.95306332 0.03295413 0.01398255]\n",
      " [0.02290303 0.96591381 0.01118316]\n",
      " [0.01362822 0.04150043 0.94487135]\n",
      " [0.00923289 0.70868354 0.28208357]\n",
      " [0.01202994 0.98019778 0.00777228]]\n"
     ]
    }
   ],
   "source": [
    "svm = SVC(C=1000, probability = True, gamma = 'scale')\n",
    "svm.fit(x_train, y_train)\n",
    "\n",
    "print('Predicted probabiblities for the samples (magligant and bening):\\n\\n{}'.format(svm.predict_proba(x_test[:10])))"
   ]
  },
  {
   "cell_type": "code",
   "execution_count": 60,
   "metadata": {},
   "outputs": [
    {
     "data": {
      "text/plain": [
       "array([[-0.09713911,  2.27601437,  0.82112474],\n",
       "       [ 2.0803419 ,  1.4196581 , -0.5       ],\n",
       "       [-0.0649289 ,  0.67959872,  2.38533019],\n",
       "       [-0.09669322,  2.19336981,  0.90332341],\n",
       "       [-0.0923627 ,  2.21882549,  0.87353721],\n",
       "       [ 2.0833275 ,  1.33386409, -0.41719159],\n",
       "       [-0.06289952,  2.29411657,  0.76878295],\n",
       "       [-0.09363386,  0.88663687,  2.20699699],\n",
       "       [-0.10411717,  2.11067368,  0.99344349],\n",
       "       [-0.07748475,  2.31010805,  0.7673767 ]])"
      ]
     },
     "execution_count": 60,
     "metadata": {},
     "output_type": "execute_result"
    }
   ],
   "source": [
    "svm.decision_function(x_test[:10])"
   ]
  },
  {
   "cell_type": "markdown",
   "metadata": {},
   "source": [
    "#### multi class"
   ]
  },
  {
   "cell_type": "code",
   "execution_count": 46,
   "metadata": {},
   "outputs": [],
   "source": [
    "from sklearn.datasets import load_iris\n",
    "from sklearn.model_selection import train_test_split\n",
    "from sklearn.ensemble import GradientBoostingClassifier\n",
    "\n",
    "iris = load_iris()"
   ]
  },
  {
   "cell_type": "code",
   "execution_count": 49,
   "metadata": {},
   "outputs": [
    {
     "data": {
      "text/plain": [
       "GradientBoostingClassifier(criterion='friedman_mse', init=None,\n",
       "              learning_rate=0.01, loss='deviance', max_depth=3,\n",
       "              max_features=None, max_leaf_nodes=None,\n",
       "              min_impurity_decrease=0.0, min_impurity_split=None,\n",
       "              min_samples_leaf=1, min_samples_split=2,\n",
       "              min_weight_fraction_leaf=0.0, n_estimators=100,\n",
       "              n_iter_no_change=None, presort='auto', random_state=0,\n",
       "              subsample=1.0, tol=0.0001, validation_fraction=0.1,\n",
       "              verbose=0, warm_start=False)"
      ]
     },
     "execution_count": 49,
     "metadata": {},
     "output_type": "execute_result"
    }
   ],
   "source": [
    "x_train, x_test, y_train,y_test = train_test_split(iris.data, iris.target, random_state=42)\n",
    "\n",
    "gbrt = GradientBoostingClassifier(learning_rate=0.01, random_state=0)\n",
    "\n",
    "gbrt.fit(x_train, y_train)"
   ]
  },
  {
   "cell_type": "code",
   "execution_count": 54,
   "metadata": {},
   "outputs": [
    {
     "data": {
      "text/plain": [
       "array([[-0.52931069,  1.46560359, -0.50448467],\n",
       "       [ 1.51154215, -0.49561142, -0.50310736],\n",
       "       [-0.52379401, -0.4676268 ,  1.51953786],\n",
       "       [-0.52931069,  1.46560359, -0.50448467],\n",
       "       [-0.53107259,  1.28190451,  0.21510024],\n",
       "       [ 1.51154215, -0.49561142, -0.50310736],\n",
       "       [-0.52931069,  1.46560359, -0.50448467],\n",
       "       [-0.53043817, -0.4676268 ,  1.51953786],\n",
       "       [-0.52931069,  1.46560359, -0.50448467],\n",
       "       [-0.52931069,  1.46560359, -0.50448467]])"
      ]
     },
     "execution_count": 54,
     "metadata": {},
     "output_type": "execute_result"
    }
   ],
   "source": [
    "gbrt.decision_function(x_test[:10]) # The decision function for the 3-class iris dataset"
   ]
  },
  {
   "cell_type": "code",
   "execution_count": 52,
   "metadata": {},
   "outputs": [
    {
     "data": {
      "text/plain": [
       "array([[0.10664722, 0.7840248 , 0.10932798],\n",
       "       [0.78880668, 0.10599243, 0.10520089],\n",
       "       [0.10231173, 0.10822274, 0.78946553],\n",
       "       [0.10664722, 0.7840248 , 0.10932798],\n",
       "       [0.10825347, 0.66344934, 0.22829719],\n",
       "       [0.78880668, 0.10599243, 0.10520089],\n",
       "       [0.10664722, 0.7840248 , 0.10932798],\n",
       "       [0.10170311, 0.10829611, 0.79000078],\n",
       "       [0.10664722, 0.7840248 , 0.10932798],\n",
       "       [0.10664722, 0.7840248 , 0.10932798]])"
      ]
     },
     "execution_count": 52,
     "metadata": {},
     "output_type": "execute_result"
    }
   ],
   "source": [
    "gbrt.predict_proba(x_test[:10]) # predict probability"
   ]
  },
  {
   "cell_type": "markdown",
   "metadata": {},
   "source": [
    "## Preprocessing Methods\n",
    "- binarization\n",
    "- scaling\n",
    "- normalization\n",
    "- mean removal\n",
    "- etc"
   ]
  },
  {
   "cell_type": "code",
   "execution_count": 77,
   "metadata": {},
   "outputs": [],
   "source": [
    "from sklearn import preprocessing as pr\n",
    "import numpy as np\n",
    "\n",
    "data = np.array([ \n",
    "    [2.2,5.9,-1.8], \n",
    "    [5.4,-3.2,-5.1], \n",
    "    [-1.9,4.2,1.5]  \n",
    "    ]) "
   ]
  },
  {
   "cell_type": "markdown",
   "metadata": {},
   "source": [
    "#### 1. Binarization"
   ]
  },
  {
   "cell_type": "code",
   "execution_count": 80,
   "metadata": {},
   "outputs": [
    {
     "data": {
      "text/plain": [
       "array([[1., 1., 0.],\n",
       "       [1., 0., 0.],\n",
       "       [0., 1., 0.]])"
      ]
     },
     "execution_count": 80,
     "metadata": {},
     "output_type": "execute_result"
    }
   ],
   "source": [
    "bindata = pr.Binarizer(threshold=1.5).transform(data)\n",
    "bindata"
   ]
  },
  {
   "cell_type": "markdown",
   "metadata": {},
   "source": [
    "#### 2. Mean Removal"
   ]
  },
  {
   "cell_type": "code",
   "execution_count": 87,
   "metadata": {},
   "outputs": [
    {
     "name": "stdout",
     "output_type": "stream",
     "text": [
      "[ 1.9  2.3 -1.8]\n"
     ]
    }
   ],
   "source": [
    "print(data.mean(axis=0))"
   ]
  },
  {
   "cell_type": "code",
   "execution_count": 86,
   "metadata": {},
   "outputs": [
    {
     "name": "stdout",
     "output_type": "stream",
     "text": [
      "[2.98775278 3.95052739 2.69443872]\n"
     ]
    }
   ],
   "source": [
    "print(data.std(axis=0))"
   ]
  },
  {
   "cell_type": "code",
   "execution_count": 83,
   "metadata": {},
   "outputs": [],
   "source": [
    "data_scaled = pr.scale(data) # data will be scaled"
   ]
  },
  {
   "cell_type": "code",
   "execution_count": 85,
   "metadata": {},
   "outputs": [
    {
     "name": "stdout",
     "output_type": "stream",
     "text": [
      "[0. 0. 0.]\n",
      "[1. 1. 1.]\n"
     ]
    }
   ],
   "source": [
    "print(data_scaled.mean(axis=0))\n",
    "print(data_scaled.std(axis=0))"
   ]
  },
  {
   "cell_type": "markdown",
   "metadata": {},
   "source": [
    "#### 3. Scaling\n",
    "- StandardScaler >> features with a mean = 0 and variance =1\n",
    "- MinMaxScaler >> features in a 0 to 1 range\n",
    "- Normalizer >> feature vector to a Euclidean length = 1"
   ]
  },
  {
   "cell_type": "code",
   "execution_count": 89,
   "metadata": {},
   "outputs": [
    {
     "data": {
      "text/plain": [
       "array([[ 2.2,  5.9, -1.8],\n",
       "       [ 5.4, -3.2, -5.1],\n",
       "       [-1.9,  4.2,  1.5]])"
      ]
     },
     "execution_count": 89,
     "metadata": {},
     "output_type": "execute_result"
    }
   ],
   "source": [
    "data "
   ]
  },
  {
   "cell_type": "code",
   "execution_count": 90,
   "metadata": {},
   "outputs": [
    {
     "data": {
      "text/plain": [
       "array([[0.56164384, 1.        , 0.5       ],\n",
       "       [1.        , 0.        , 0.        ],\n",
       "       [0.        , 0.81318681, 1.        ]])"
      ]
     },
     "execution_count": 90,
     "metadata": {},
     "output_type": "execute_result"
    }
   ],
   "source": [
    "minmax_scaler = pr.MinMaxScaler(feature_range=(0,1))\n",
    "data_minmax = minmax_scaler.fit_transform(data)\n",
    "\n",
    "data_minmax"
   ]
  },
  {
   "cell_type": "code",
   "execution_count": null,
   "metadata": {},
   "outputs": [],
   "source": []
  }
 ],
 "metadata": {
  "kernelspec": {
   "display_name": "Python 3",
   "language": "python",
   "name": "python3"
  },
  "language_info": {
   "codemirror_mode": {
    "name": "ipython",
    "version": 3
   },
   "file_extension": ".py",
   "mimetype": "text/x-python",
   "name": "python",
   "nbconvert_exporter": "python",
   "pygments_lexer": "ipython3",
   "version": "3.7.3"
  }
 },
 "nbformat": 4,
 "nbformat_minor": 2
}
